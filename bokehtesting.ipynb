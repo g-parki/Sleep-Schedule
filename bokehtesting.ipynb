{
 "metadata": {
  "language_info": {
   "codemirror_mode": {
    "name": "ipython",
    "version": 3
   },
   "file_extension": ".py",
   "mimetype": "text/x-python",
   "name": "python",
   "nbconvert_exporter": "python",
   "pygments_lexer": "ipython3",
   "version": "3.8.8"
  },
  "orig_nbformat": 2,
  "kernelspec": {
   "name": "python388jvsc74a57bd0c181bd5ed8933221c509e6ef7e5b26995307278dbea8c01629af8df266345df4",
   "display_name": "Python 3.8.8 64-bit"
  },
  "metadata": {
   "interpreter": {
    "hash": "c181bd5ed8933221c509e6ef7e5b26995307278dbea8c01629af8df266345df4"
   }
  }
 },
 "nbformat": 4,
 "nbformat_minor": 2,
 "cells": [
  {
   "cell_type": "code",
   "execution_count": 1,
   "metadata": {},
   "outputs": [],
   "source": [
    "from bokeh.plotting import figure, show, ColumnDataSource\n",
    "from bokeh.models import PolyAnnotation, Range1d\n",
    "from bokeh.embed import components\n",
    "from bokeh.transform import jitter\n",
    "import os\n",
    "import pandas as pd\n",
    "modelname = '1615871212'\n",
    "from flask import url_for\n",
    "\n",
    "model_folder_path = os.path.join(os.getcwd(), 'static', 'modelpredictions', modelname)\n",
    "model_predictions = os.path.join(model_folder_path, 'predictions.csv')\n",
    "model_strings = os.path.join(model_folder_path, 'strings.csv') #Not used currently"
   ]
  },
  {
   "cell_type": "code",
   "execution_count": 2,
   "metadata": {},
   "outputs": [],
   "source": [
    "df = pd.read_csv(model_predictions)\n",
    "df['y'] = .5\n",
    "get_file_name = lambda row: row['ResizedPath'].split('\\\\')[-1]\n",
    "df['FileName'] = df.apply(get_file_name, axis=1)\n",
    "#create_URL = lambda row: url_for('static', filename= 'Resized/' + row['FileName'])\n",
    "#df['PhotoURL'] = df.apply(create_URL, axis=1)\n",
    "babyDF = df.loc[df['Value'] == 'Baby'].reset_index()\n",
    "baby_likeliness = lambda row: row['LikelyBaby'] - row['LikelyEmpty']\n",
    "babyDF['BabyLikeliness'] = babyDF.apply(baby_likeliness, axis=1)\n",
    "\n",
    "nobabyDF = df.loc[df['Value'] == 'No Baby'].reset_index()\n",
    "nobaby_likeliness = lambda row: -1*(row['LikelyEmpty'] - row['LikelyBaby'])\n",
    "nobabyDF['NoBabyLikeliness'] = nobabyDF.apply(nobaby_likeliness, axis=1)"
   ]
  },
  {
   "cell_type": "code",
   "execution_count": 21,
   "metadata": {},
   "outputs": [],
   "source": [
    "tools = 'pan, wheel_zoom, reset'\n",
    "TOOLTIPS = '<img src= \"@ResizedPath\">'\n",
    "\n",
    "p = figure(\n",
    "        title= f'Model {modelname} Predictions',\n",
    "        tooltips= TOOLTIPS,\n",
    "        tools=tools,\n",
    "        active_scroll= 'wheel_zoom',\n",
    "        y_range=Range1d(start=-.05, end=1.05, bounds=(-2,2)),\n",
    "        x_range=Range1d(start=-1.05, end=1.05, bounds=(-2,2))\n",
    "    )\n",
    "baby_src = ColumnDataSource(data= babyDF)\n",
    "nobaby_src = ColumnDataSource(data= nobabyDF)\n",
    "JITTER_RADIUS_X = .05\n",
    "JITTER_RADIUS_Y = 1\n",
    "DOT_SIZE = 10\n",
    "DOT_ALPHA = .1\n",
    "BACK_ALPHA = .03\n",
    "p.circle(\n",
    "    jitter('BabyLikeliness', JITTER_RADIUS_X),\n",
    "    jitter('y', JITTER_RADIUS_Y),\n",
    "    source= baby_src,\n",
    "    size=DOT_SIZE,\n",
    "    color='blue', alpha=DOT_ALPHA,\n",
    "    legend_label=\"Photos With Baby\"\n",
    ")\n",
    "p.circle(\n",
    "    jitter('NoBabyLikeliness', JITTER_RADIUS_X),\n",
    "    jitter('y', JITTER_RADIUS_Y),\n",
    "    source= nobaby_src,\n",
    "    size=DOT_SIZE,\n",
    "    color='red', alpha=DOT_ALPHA,\n",
    "    legend_label=\"Photos Without Baby\"\n",
    ")\n",
    "\n",
    "p.sizing_mode = 'scale_width'\n",
    "red_polygon = PolyAnnotation(\n",
    "    fill_color=\"red\",\n",
    "    fill_alpha=BACK_ALPHA,\n",
    "    xs=[0, 0, -10, -10],\n",
    "    ys=[-10, 10, 10, -10],\n",
    ")\n",
    "\n",
    "p.legend.location = \"top_right\"\n",
    "p.legend.click_policy=\"hide\"\n",
    "p.legend.label_text_font_size = '14pt'\n",
    "\n",
    "blue_polygon = PolyAnnotation(\n",
    "    fill_color=\"blue\",\n",
    "    fill_alpha=BACK_ALPHA,\n",
    "    xs=[0, 0, 10, 10],\n",
    "    ys=[-10, 10, 10, -10],\n",
    ")\n",
    "p.add_layout(red_polygon)\n",
    "p.add_layout(blue_polygon)\n",
    "show(p)"
   ]
  },
  {
   "cell_type": "code",
   "execution_count": 20,
   "metadata": {},
   "outputs": [],
   "source": []
  },
  {
   "cell_type": "code",
   "execution_count": 21,
   "metadata": {},
   "outputs": [
    {
     "output_type": "execute_result",
     "data": {
      "text/plain": [
       "'97.99'"
      ]
     },
     "metadata": {},
     "execution_count": 21
    }
   ],
   "source": []
  },
  {
   "cell_type": "code",
   "execution_count": 19,
   "metadata": {},
   "outputs": [
    {
     "output_type": "execute_result",
     "data": {
      "text/plain": [
       "'97.99'"
      ]
     },
     "metadata": {},
     "execution_count": 19
    }
   ],
   "source": []
  },
  {
   "cell_type": "code",
   "execution_count": null,
   "metadata": {},
   "outputs": [],
   "source": []
  }
 ]
}