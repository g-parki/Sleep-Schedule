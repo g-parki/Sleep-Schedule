{
 "cells": [
  {
   "cell_type": "markdown",
   "metadata": {},
   "source": [
    "## Training Notebook\n",
    "\n",
    "### First and foremost... sorry, this was not originally built with other people in mind.\n",
    "\n",
    "### General Approach\n",
    "I saw best performance from my models when I mixed augmented (skewed, cropped, rotated, etc.) photos into the data set, so my training workflow generally looked like:  \n",
    "1. Create augmented copies of all photos, and save them in their own directory with its own CSV.  \n",
    "2. Load the real data and the augmented data into a combined dataframe.  \n",
    "3. Balance the data so the count of photos with baby (values 1.0, 2.0) equals the count of photos without baby (value 0.0).  \n",
    "4. Either load the most recent model to retrain, or generate a new one.  \n",
    "5. Train 3-5 epochs at a time several times.  \n",
    "6. When I'm happy with the loss, save the model.  \n",
    "7. Infer over the entire dataset. Produce a graph of the results."
   ]
  },
  {
   "cell_type": "code",
   "execution_count": 1,
   "metadata": {},
   "outputs": [],
   "source": [
    "\"\"\"General setup\"\"\"\n",
    "import pandas as pd\n",
    "import cv2\n",
    "import numpy as np\n",
    "import tensorflow as tf\n",
    "from tensorflow.keras.preprocessing.image import ImageDataGenerator\n",
    "from tensorflow.keras.models import Sequential, load_model\n",
    "from tensorflow.keras.layers import Dense, Flatten, Dropout, Conv2D, MaxPooling2D, Activation\n",
    "from tensorflow.keras.optimizers import SGD\n",
    "from tensorflow.keras.callbacks import TensorBoard\n",
    "from tensorflow.keras.utils import to_categorical\n",
    "from sklearn.model_selection import train_test_split\n",
    "import scipy\n",
    "import time\n",
    "import matplotlib.pyplot as plt\n",
    "import matplotlib.image as mpimg\n",
    "import csv\n",
    "\n",
    "# Restrict TensorFlow to only use the first GPU\n",
    "try:\n",
    "    tf_gpus = tf.config.list_physical_devices('GPU')\n",
    "    for gpu in tf_gpus:\n",
    "        tf.config.experimental.set_memory_growth(gpu, True)\n",
    "except:\n",
    "    pass "
   ]
  },
  {
   "cell_type": "markdown",
   "metadata": {},
   "source": [
    "## Step 1: Create augmented photos"
   ]
  },
  {
   "cell_type": "code",
   "execution_count": 10,
   "metadata": {},
   "outputs": [
    {
     "name": "stdout",
     "output_type": "stream",
     "text": [
      "Xaug Shape (1961, 135, 240)\n"
     ]
    }
   ],
   "source": [
    "\"\"\"Generate augmented copies of all photos and save to file\"\"\"\r\n",
    "\r\n",
    "datatoaugDF = pd.read_csv('data/data.csv')\r\n",
    "Xaug = []\r\n",
    "yaug = []\r\n",
    "for i in range(len(datatoaugDF.index)):\r\n",
    "    path = datatoaugDF.iloc[i]['ResizedPath']\r\n",
    "    image = cv2.imread(path, cv2.IMREAD_GRAYSCALE)\r\n",
    "    value = datatoaugDF.iloc[i]['Value']\r\n",
    "    Xaug.append(image)\r\n",
    "    yaug.append(value)\r\n",
    "\r\n",
    "Xaug = np.array(Xaug)\r\n",
    "print(f'Xaug Shape {Xaug.shape}')\r\n",
    "Xaug = Xaug/255\r\n",
    "Xaug = Xaug.reshape(-1, 135, 240,1)\r\n",
    "\r\n",
    "# Create numpy array of output values (already 0 or 1)\r\n",
    "# Transform to categorical. Use the number of classes as the dimension for the last dense layer in the model\r\n",
    "yaug = np.array(yaug)\r\n",
    "\r\n",
    "\r\n",
    "import csv\r\n",
    "import os\r\n",
    "OUTPUT_DIRECTORY_AUGMENTED = 'C:\\\\Users\\\\parki\\\\Documents\\\\GitHub\\\\Python-Practice\\\\Sleep_Schedule\\\\scripts\\\\static\\\\Augmented'\r\n",
    "\r\n",
    "#Clear existing augmented files\r\n",
    "files_list = [os.path.join(OUTPUT_DIRECTORY_AUGMENTED, file) for file in os.listdir(OUTPUT_DIRECTORY_AUGMENTED)]\r\n",
    "for file in files_list:\r\n",
    "    os.remove(file)\r\n",
    "\r\n",
    "datagen = ImageDataGenerator(\r\n",
    "    #brightness_range= [.95, 1.05], # Causes image to scale back to 0-255\r\n",
    "    rotation_range= 3,\r\n",
    "    width_shift_range= .05,\r\n",
    "    height_shift_range= .05,\r\n",
    "    zoom_range= 0.2, \r\n",
    "    shear_range= 0.1\r\n",
    ")\r\n",
    "    \r\n",
    "with open('data/augmenteddata.csv', 'w', newline='') as f:\r\n",
    "    csv.writer(f).writerow(['FilePath','ResizedPath','Value'])\r\n",
    "    \r\n",
    "    complete_cycles = 5\r\n",
    "    #Input data size = batch_size*multiple\r\n",
    "    batch_size = 53\r\n",
    "    multiple = 37\r\n",
    "\r\n",
    "    for k in range(complete_cycles):\r\n",
    "        for i in range(multiple):\r\n",
    "            img_list, value_list = datagen.flow(Xaug, yaug, batch_size= batch_size).next()\r\n",
    "            for j in range(batch_size):\r\n",
    "                img = img_list[j].reshape(135, 240,1)\r\n",
    "                img = img*255\r\n",
    "                value = value_list[j]\r\n",
    "\r\n",
    "                filename = f'augmented{str(k)+str(i)+str(j)}.png'\r\n",
    "                filepath = f'{OUTPUT_DIRECTORY_AUGMENTED}\\\\{filename}'\r\n",
    "                cv2.imwrite(filepath, img)\r\n",
    "                csv.writer(f).writerow(['', filepath, value])\r\n",
    "        "
   ]
  },
  {
   "cell_type": "markdown",
   "metadata": {},
   "source": [
    "## Steps 2 & 3: Load data, combining augmented images with real images. Balance data."
   ]
  },
  {
   "cell_type": "code",
   "execution_count": 16,
   "metadata": {},
   "outputs": [
    {
     "name": "stdout",
     "output_type": "stream",
     "text": [
      "Data counts: \n",
      "0.0    2816\n",
      "2.0     859\n",
      "1.0     629\n",
      "Name: Value, dtype: int64\n",
      "Training data counts: \n",
      "0.0    1258\n",
      "2.0     713\n",
      "1.0     545\n",
      "Name: Value, dtype: int64\n",
      "Total: 2516\n",
      "X Shape (2516, 135, 240)\n"
     ]
    }
   ],
   "source": [
    "\"\"\"Load dataset, normalize and split into training and testing\"\"\"\r\n",
    "\r\n",
    "df = pd.read_csv('data/data.csv')\r\n",
    "augdf = pd.read_csv('data/augmenteddata.csv')\r\n",
    "\r\n",
    "augdf2 = augdf.loc[augdf['Value'] == 0.0]\r\n",
    "df = pd.concat([df, augdf2])\r\n",
    "\r\n",
    "dataset_value_counts = df['Value'].value_counts()\r\n",
    "print(f'Data counts: \\n{dataset_value_counts}')\r\n",
    "\r\n",
    "#Get sample dataframes of each value type\r\n",
    "min_available_dict = df['Value'].value_counts().to_dict()\r\n",
    "minimum_key, min_available = min(min_available_dict.items(), key= lambda x: x[1])\r\n",
    "\r\n",
    "\r\n",
    "if minimum_key in [1.0, 2.0]:\r\n",
    "    sample_size = min([min_available_dict.get(0.0), 2*min_available])\r\n",
    "else: sample_size = min_available\r\n",
    "\r\n",
    "if sample_size % 2:\r\n",
    "    sample_size -= 1\r\n",
    "\r\n",
    "bedEmptyDF = df.loc[df['Value'] == 0.0].sample(n= sample_size)\r\n",
    "babyInBedDF = df.loc[(df['Value'] == 1.0) | (df['Value'] == 2.0)].sample(n= sample_size)\r\n",
    "# babyInBedDF = df.loc[(df['Value'] == 1.0)].sample(n= sample_size//2)\r\n",
    "# babyAsleepDF = df.loc[(df['Value'] == 2.0)].sample(n= sample_size//2)\r\n",
    "\r\n",
    "#Combine and scramble\r\n",
    "#combinedDF = pd.concat([bedEmptyDF, babyInBedDF, babyAsleepDF])\r\n",
    "combinedDF = pd.concat([bedEmptyDF, babyInBedDF])\r\n",
    "combinedDF = combinedDF.sample(frac=1).reset_index(drop=True)\r\n",
    "training_data_counts = combinedDF['Value'].value_counts()\r\n",
    "print(f'Training data counts: \\n{training_data_counts}')\r\n",
    "print(f'Total: {combinedDF.index.size}')\r\n",
    "\r\n",
    "training_data = []\r\n",
    "for i in range(len(combinedDF.index)):\r\n",
    "    path = combinedDF.iloc[i]['ResizedPath']\r\n",
    "    image = cv2.imread(path, cv2.IMREAD_GRAYSCALE)\r\n",
    "    value = combinedDF.iloc[i]['Value']\r\n",
    "    training_data.append([image, value])\r\n",
    "X = []\r\n",
    "y = []\r\n",
    "for feature, value in training_data:\r\n",
    "    X.append(feature)\r\n",
    "    if value in [1.0, 2.0]:\r\n",
    "        y.append(1)\r\n",
    "    elif value == 0.0:\r\n",
    "        y.append(0)\r\n",
    "\r\n",
    "# Create numpy array of images, normalize values between 0 and 1\r\n",
    "# Reshape array (-1 unknown qty images, 135 pixels high, 240 pixels long, 1 value per pixel)\r\n",
    "X = np.array(X)\r\n",
    "print(f'X Shape {X.shape}')\r\n",
    "X = X/255\r\n",
    "X = X.reshape(-1, 135, 240,1)\r\n",
    "\r\n",
    "# Create numpy array of output values (already 0 or 1)\r\n",
    "# Transform to categorical. Use the number of classes as the dimension for the last dense layer in the model\r\n",
    "y = np.array(y)\r\n",
    "y_cat = to_categorical(y, num_classes=2)\r\n",
    "\r\n",
    "X_train, X_test, y_train, y_test = train_test_split(X, y_cat, test_size= 0.1)"
   ]
  },
  {
   "cell_type": "markdown",
   "metadata": {},
   "source": [
    "## Step 4: Either load the most recent model to retrain, or build a new one"
   ]
  },
  {
   "cell_type": "code",
   "execution_count": 12,
   "metadata": {},
   "outputs": [],
   "source": [
    "\"\"\"Load most recent model\"\"\"\n",
    "\n",
    "import os\n",
    "current_dir = os.getcwd()\n",
    "model_name = max(os.listdir('models'))\n",
    "model_path = os.path.join(current_dir, 'models', model_name)\n",
    "model = load_model(model_path)"
   ]
  },
  {
   "cell_type": "code",
   "execution_count": null,
   "metadata": {},
   "outputs": [],
   "source": [
    "\"\"\"Build model\"\"\"\n",
    "\n",
    "model = Sequential()\n",
    "model.add(Conv2D(32, (9,9), input_shape= X_train.shape[1:]))\n",
    "model.add(Activation('relu'))\n",
    "model.add(MaxPooling2D(pool_size= (3,3)))\n",
    "\n",
    "model.add(Conv2D(64, (3,3)))\n",
    "model.add(Activation('relu'))\n",
    "model.add(MaxPooling2D(pool_size= (3,3)))\n",
    "\n",
    "model.add(Dropout(0.1))\n",
    "model.add(Flatten())\n",
    "model.add(Dense(32))\n",
    "model.add(Activation('relu'))\n",
    "\n",
    "#model.add(Dropout(0.1))\n",
    "model.add(Dense(2))\n",
    "model.add(Activation('sigmoid'))\n",
    "model.compile(loss= 'binary_crossentropy',\n",
    "                optimizer= 'adam',\n",
    "                metrics= ['accuracy'])\n",
    "\n",
    "NAME = f'SLEEPING-MODEL-{int(time.time())}'\n",
    "tensorboard = TensorBoard(log_dir= f'C:\\\\logs\\\\log{NAME}')"
   ]
  },
  {
   "cell_type": "markdown",
   "metadata": {},
   "source": [
    "## Step 5: Train several epochs at a time"
   ]
  },
  {
   "cell_type": "code",
   "execution_count": 17,
   "metadata": {},
   "outputs": [
    {
     "name": "stdout",
     "output_type": "stream",
     "text": [
      "Epoch 1/5\n",
      "71/71 [==============================] - 1s 21ms/step - loss: 0.0324 - accuracy: 0.9890 - val_loss: 0.0056 - val_accuracy: 1.0000\n",
      "Epoch 2/5\n",
      "71/71 [==============================] - 1s 17ms/step - loss: 0.0091 - accuracy: 0.9973 - val_loss: 0.0062 - val_accuracy: 1.0000\n",
      "Epoch 3/5\n",
      "71/71 [==============================] - 1s 17ms/step - loss: 0.0079 - accuracy: 0.9973 - val_loss: 0.0032 - val_accuracy: 1.0000\n",
      "Epoch 4/5\n",
      "71/71 [==============================] - 1s 17ms/step - loss: 0.0049 - accuracy: 0.9987 - val_loss: 0.0055 - val_accuracy: 1.0000\n",
      "Epoch 5/5\n",
      "71/71 [==============================] - 1s 17ms/step - loss: 0.0081 - accuracy: 0.9965 - val_loss: 0.0052 - val_accuracy: 1.0000\n"
     ]
    },
    {
     "data": {
      "text/plain": [
       "<tensorflow.python.keras.callbacks.History at 0x27318019af0>"
      ]
     },
     "execution_count": 17,
     "metadata": {},
     "output_type": "execute_result"
    }
   ],
   "source": [
    "\"\"\"Fit model with original images\"\"\"\r\n",
    "epochs = 5\r\n",
    "model.fit(\r\n",
    "            X_train, y_train,\r\n",
    "            epochs= epochs,\r\n",
    "            validation_data=(X_test, y_test),\r\n",
    "            #callbacks= [tensorboard]\r\n",
    "        )"
   ]
  },
  {
   "cell_type": "markdown",
   "metadata": {},
   "source": [
    "## Step 6: If working with an existing model, save to overwrite. Otherwise, save as a new model."
   ]
  },
  {
   "cell_type": "code",
   "execution_count": 22,
   "metadata": {},
   "outputs": [],
   "source": [
    "\"\"\"Save as new model\"\"\"\r\n",
    "import os\r\n",
    "#now = int(time.time())\r\n",
    "#model.save(f'models\\\\{now}')\r\n",
    "os.mkdir(os.path.join(os.getcwd(),'scripts', 'static', 'modelpredictions', str(now)))\r\n"
   ]
  },
  {
   "cell_type": "code",
   "execution_count": null,
   "metadata": {},
   "outputs": [],
   "source": [
    "\"\"\"Save as current model\"\"\"\n",
    "model.save(model_path)"
   ]
  },
  {
   "cell_type": "markdown",
   "metadata": {},
   "source": [
    "## Step 7: Infer over the entire dataset and generate a plot of the results."
   ]
  },
  {
   "cell_type": "code",
   "execution_count": 24,
   "metadata": {},
   "outputs": [
    {
     "name": "stdout",
     "output_type": "stream",
     "text": [
      "1625635636\n",
      "Innacurate classifications:\n",
      "2 of 1488 images with the baby misclassified. Error rate 0.13%\n",
      "0 of 473 images without baby misclassified. Error rate 0.0%\n"
     ]
    },
    {
     "data": {
      "image/png": "[encoded data removed]",
      "text/plain": [
       "<Figure size 1152x648 with 1 Axes>"
      ]
     },
     "metadata": {
      "needs_background": "light"
     },
     "output_type": "display_data"
    }
   ],
   "source": [
    "\"\"\"Load most recent model and make prediction on entire dataset\"\"\"\r\n",
    "\r\n",
    "import os\r\n",
    "current_dir = os.getcwd()\r\n",
    "model_name = max(os.listdir('models'))\r\n",
    "#model_name = '1620534697'\r\n",
    "#for model_name in os.listdir('models'):\r\n",
    "#for model_name in ['1620964737', '1620963157']:\r\n",
    "    \r\n",
    "model_path = os.path.join(current_dir, 'models', model_name)\r\n",
    "model_static_path = os.path.join(current_dir, 'scripts', 'static', 'modelpredictions', model_name)\r\n",
    "prediction_file = os.path.join(current_dir, 'scripts', 'static', 'modelpredictions', model_name, 'predictions.csv')\r\n",
    "strings_file = os.path.join(current_dir, 'scripts', 'static', 'modelpredictions', model_name, 'strings.csv')\r\n",
    "summary_file = os.path.join(current_dir, 'scripts', 'static', 'modelpredictions', model_name, 'summary.txt')\r\n",
    "image_file = os.path.join(current_dir, 'scripts', 'static', 'modelpredictions', model_name, f'{model_name}graph.png')\r\n",
    "model = load_model(model_path)\r\n",
    "\r\n",
    "testDF = pd.read_csv('data/data.csv')\r\n",
    "\r\n",
    "validation_list = []\r\n",
    "for i in range(len(testDF.index)):\r\n",
    "    path = testDF.iloc[i]['ResizedPath']\r\n",
    "    image = cv2.imread(path, cv2.IMREAD_GRAYSCALE)\r\n",
    "    validation_list.append(image)\r\n",
    "\r\n",
    "V = np.array(validation_list)\r\n",
    "V = V/255\r\n",
    "V = V.reshape(-1,135,240,1)\r\n",
    "\r\n",
    "validation_results = model.predict(V)\r\n",
    "resultsDF = pd.DataFrame(validation_results, columns= ['LikelyEmpty', 'LikelyBaby'])\r\n",
    "\r\n",
    "testDF = pd.concat([testDF, resultsDF], axis=1)\r\n",
    "\r\n",
    "testDF['Value'] = testDF.apply(lambda row: 'Baby' if row.Value else 'No Baby', axis=1)\r\n",
    "testDF['Prediction'] = testDF.apply(lambda row: 'Baby' if row.LikelyBaby > row.LikelyEmpty else 'No Baby', axis=1)\r\n",
    "testDF['Incorrect'] = testDF.apply(lambda row: 1 if row.Value != row.Prediction else 0, axis=1)\r\n",
    "\r\n",
    "baby_total = testDF.loc[(testDF['Value'] == 'Baby')].index.size\r\n",
    "baby_incorrect = testDF.loc[(testDF['Value'] == 'Baby') & (testDF['Incorrect'] == 1)].index.size\r\n",
    "baby_incorrect_per = round(100 * baby_incorrect / baby_total, 2)\r\n",
    "baby_incorrect_str = f'{baby_incorrect} of {baby_total} images with the baby misclassified. Error rate {baby_incorrect_per}%'\r\n",
    "\r\n",
    "no_baby_total = testDF.loc[(testDF['Value'] == 'No Baby')].index.size\r\n",
    "no_baby_incorrect = testDF.loc[(testDF['Value'] == 'No Baby') & (testDF['Incorrect'] == 1)].index.size\r\n",
    "no_baby_incorrect_per = round(100 * no_baby_incorrect / no_baby_total, 2)\r\n",
    "no_baby_incorrect_str = f'{no_baby_incorrect} of {no_baby_total} images without baby misclassified. Error rate {no_baby_incorrect_per}%'\r\n",
    "\r\n",
    "inaccurate_counts_message = f'Innacurate classifications:\\n{baby_incorrect_str}\\n{no_baby_incorrect_str}'\r\n",
    "print(f'{model_name}\\n{inaccurate_counts_message}')\r\n",
    "\r\n",
    "stringlist = []\r\n",
    "model.summary(print_fn=lambda x: stringlist.append(x))\r\n",
    "shitty_string = '================================================================='\r\n",
    "stringlist = [line if line not in shitty_string else '======================================' for line in stringlist ]\r\n",
    "short_model_summary = \"\\n\".join(stringlist)\r\n",
    "if not os.path.exists(model_static_path):\r\n",
    "    os.mkdir(model_static_path)\r\n",
    "with open(prediction_file, 'w+', newline='') as f:\r\n",
    "    testDF.to_csv(f, index=False, header=True)\r\n",
    "\r\n",
    "with open(summary_file, 'w') as f:\r\n",
    "        f.write(short_model_summary)\r\n",
    "        \r\n",
    "accurateDF = testDF.loc[testDF['Incorrect'] == 0].reset_index()\r\n",
    "inaccurateDF = testDF.loc[testDF['Incorrect'] == 1].reset_index()\r\n",
    "\r\n",
    "import matplotlib.pyplot as plt\r\n",
    "\r\n",
    "plt.figure(figsize=(16,9))\r\n",
    "#Plot correct predictions in blue, incorrect in red\r\n",
    "plt.scatter(accurateDF['LikelyEmpty'], accurateDF['LikelyBaby'], alpha=.2, s=100)\r\n",
    "plt.scatter(inaccurateDF['LikelyEmpty'], inaccurateDF['LikelyBaby'], color='red', alpha=.2, s=100)\r\n",
    "\r\n",
    "#Plot mid-lines\r\n",
    "# plt.plot([0,1], [0,1], color='gray', lw=.5)\r\n",
    "# plt.plot([0,1], [1,0], color='gray', lw=.5, linestyle= 'dotted')\r\n",
    "\r\n",
    "plt.xlim([-.05,1.05])\r\n",
    "plt.ylim([-.05,1.05])\r\n",
    "plt.axis('off')\r\n",
    "plt.savefig(image_file, facecolor=(1,1,1,1))"
   ]
  },
  {
   "cell_type": "markdown",
   "metadata": {},
   "source": [
    "## Test functions, not part of typical workflow"
   ]
  },
  {
   "cell_type": "code",
   "execution_count": null,
   "metadata": {},
   "outputs": [],
   "source": [
    "\"\"\"Display items output from generator. Just for testing generator settings\"\"\"\n",
    "\n",
    "datagen = ImageDataGenerator(\n",
    "                                rotation_range= 3,\n",
    "                                width_shift_range= .05,\n",
    "                                height_shift_range= .05,\n",
    "                                zoom_range= 0.2, \n",
    "                                shear_range= 0.1\n",
    "                                #brightness_range= [.95, 1.05], # Causes image to scale back to 0-255\n",
    "                            )\n",
    "\n",
    "plt.figure(figsize=(25,12))\n",
    "for i in range(10):\n",
    "    img, value = datagen.flow(Xaug, yaug, batch_size=1).next()\n",
    "    img = img.reshape(135, 240,1)\n",
    "    img = img*255\n",
    "    plt.subplot(1, 10, i+1)\n",
    "    plt.title(value[0])\n",
    "    plt.imshow(img.astype('uint8'), cmap= 'gray')"
   ]
  },
  {
   "cell_type": "code",
   "execution_count": null,
   "metadata": {},
   "outputs": [],
   "source": [
    "\"\"\"Fit model with imagegenerator.\"\"\"\n",
    "datagen = ImageDataGenerator(\n",
    "                                rotation_range= 5,\n",
    "                                #width_shift_range= .1,\n",
    "                                #height_shift_range= .1,\n",
    "                                zoom_range= 0.1, \n",
    "                                #shear_range= 0.1\n",
    "                                #brightness_range= [.95, 1.05], # Causes image to scale back to 0-255\n",
    "                            )\n",
    "epochs = 5\n",
    "\n",
    "divisible_by = [x for x in range(2,20) if X_train.shape[0] % x == 0]\n",
    "batch_size = max(divisible_by)\n",
    "print(f'Batch size: {batch_size}, {X_train.shape[0]} training images')\n",
    "\n",
    "model.fit(\n",
    "            datagen.flow(X_train, y_train, batch_size= batch_size),\n",
    "            epochs= epochs,\n",
    "            steps_per_epoch= X_train.shape[0] // batch_size,\n",
    "            validation_data=(X_test, y_test),\n",
    "            callbacks= [tensorboard]\n",
    ")"
   ]
  },
  {
   "cell_type": "code",
   "execution_count": null,
   "metadata": {},
   "outputs": [],
   "source": [
    "\"\"\"Load all models and make prediction on entire dataset\"\"\"\n",
    "\n",
    "import os\n",
    "current_dir = os.getcwd()\n",
    "#model_name = max(os.listdir('models'))\n",
    "for model_name in os.listdir('models'):\n",
    "    \n",
    "    model_path = os.path.join(current_dir, 'models', model_name)\n",
    "    prediction_file = os.path.join(current_dir, 'static', 'modelpredictions', model_name, 'predictions.csv')\n",
    "    strings_file = os.path.join(current_dir, 'static', 'modelpredictions', model_name, 'strings.csv')\n",
    "    summary_file = os.path.join(current_dir, 'static', 'modelpredictions', model_name, 'summary.txt')\n",
    "    image_file = os.path.join(current_dir, 'static', 'modelpredictions', model_name, f'{model_name}graph.png')\n",
    "    model = load_model(model_path)\n",
    "\n",
    "    stringlist = []\n",
    "    model.summary(print_fn=lambda x: stringlist.append(x))\n",
    "    shitty_string = '================================================================='\n",
    "    stringlist = [line if line not in shitty_string else '======================================' for line in stringlist ]\n",
    "    short_model_summary = \"\\n\".join(stringlist)\n",
    "\n",
    "    with open(summary_file, 'w') as f:\n",
    "        f.write(short_model_summary)\n"
   ]
  },
  {
   "cell_type": "code",
   "execution_count": null,
   "metadata": {},
   "outputs": [],
   "source": []
  },
  {
   "cell_type": "code",
   "execution_count": null,
   "metadata": {},
   "outputs": [],
   "source": []
  },
  {
   "cell_type": "code",
   "execution_count": null,
   "metadata": {},
   "outputs": [],
   "source": []
  }
 ],
 "metadata": {
  "interpreter": {
   "hash": "c181bd5ed8933221c509e6ef7e5b26995307278dbea8c01629af8df266345df4"
  },
  "kernelspec": {
   "display_name": "Python 3.8.8 64-bit ('Python38')",
   "name": "python3"
  },
  "language_info": {
   "codemirror_mode": {
    "name": "ipython",
    "version": 3
   },
   "file_extension": ".py",
   "mimetype": "text/x-python",
   "name": "python",
   "nbconvert_exporter": "python",
   "pygments_lexer": "ipython3",
   "version": "3.8.8"
  },
  "metadata": {
   "interpreter": {
    "hash": "c181bd5ed8933221c509e6ef7e5b26995307278dbea8c01629af8df266345df4"
   }
  },
  "orig_nbformat": 2
 },
 "nbformat": 4,
 "nbformat_minor": 2
}